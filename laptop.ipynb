{
 "cells": [
  {
   "cell_type": "code",
   "execution_count": 1,
   "metadata": {},
   "outputs": [],
   "source": [
    "\n",
    "import pandas as pd"
   ]
  },
  {
   "cell_type": "code",
   "execution_count": 2,
   "metadata": {},
   "outputs": [
    {
     "data": {
      "text/plain": [
       "'1.4.3'"
      ]
     },
     "execution_count": 2,
     "metadata": {},
     "output_type": "execute_result"
    }
   ],
   "source": [
    "#Q1. Pandas version\n",
    "pd.__version__\n"
   ]
  },
  {
   "cell_type": "code",
   "execution_count": 3,
   "metadata": {},
   "outputs": [],
   "source": [
    "#Getting the data\n",
    "df = pd.read_csv('C:\\Git\\mymacinelearning\\mymachinelearning\\laptops.csv')"
   ]
  },
  {
   "cell_type": "code",
   "execution_count": 4,
   "metadata": {},
   "outputs": [
    {
     "name": "stdout",
     "output_type": "stream",
     "text": [
      "2160\n"
     ]
    }
   ],
   "source": [
    "\n",
    "#Q2. Records count\n",
    "record = len(df)\n",
    "print (record)"
   ]
  },
  {
   "cell_type": "code",
   "execution_count": 5,
   "metadata": {},
   "outputs": [
    {
     "name": "stdout",
     "output_type": "stream",
     "text": [
      "Index(['Laptop', 'Status', 'Brand', 'Model', 'CPU', 'RAM', 'Storage',\n",
      "       'Storage type', 'GPU', 'Screen', 'Touch', 'Final Price'],\n",
      "      dtype='object')\n"
     ]
    }
   ],
   "source": [
    "headers = df.columns\n",
    "print (headers)"
   ]
  },
  {
   "cell_type": "code",
   "execution_count": 11,
   "metadata": {},
   "outputs": [
    {
     "data": {
      "text/plain": [
       "27"
      ]
     },
     "execution_count": 11,
     "metadata": {},
     "output_type": "execute_result"
    }
   ],
   "source": [
    "#Q3. Laptop brands\n",
    "unique_brands_count = df['Brand'].nunique()\n",
    "\n",
    "unique_brands_count"
   ]
  },
  {
   "cell_type": "code",
   "execution_count": 7,
   "metadata": {},
   "outputs": [
    {
     "name": "stdout",
     "output_type": "stream",
     "text": [
      "3\n"
     ]
    }
   ],
   "source": [
    "#Q4. Missing values\n",
    "#How many columns in the dataset have missing values?\n",
    "\n",
    "\n",
    "missing_columns= df.isnull().sum() > 0\n",
    "num_miss_columns = missing_columns.sum()\n",
    "print (num_miss_columns)"
   ]
  },
  {
   "cell_type": "code",
   "execution_count": 8,
   "metadata": {},
   "outputs": [
    {
     "name": "stdout",
     "output_type": "stream",
     "text": [
      "3936.0\n"
     ]
    }
   ],
   "source": [
    "#Q5. Maximum final price\n",
    "#What's the maximum final price of Dell notebooks in the dataset?\n",
    "dell_notebooks = df[df['Brand'].str.contains('Dell', case=False, na=False)]\n",
    "max_final_price = dell_notebooks['Final Price'].max()\n",
    "print(max_final_price)"
   ]
  },
  {
   "cell_type": "code",
   "execution_count": 9,
   "metadata": {},
   "outputs": [
    {
     "data": {
      "text/plain": [
       "(15.6, 15.6, 15.6)"
      ]
     },
     "execution_count": 9,
     "metadata": {},
     "output_type": "execute_result"
    }
   ],
   "source": [
    "#Q6. Median value of Screen\n",
    "\n",
    "# Calculate the median value of the 'Screen' column before filling missing values\n",
    "original_median_screen = df['Screen'].median()\n",
    "\n",
    "# Calculate the most frequent value (mode) of the 'Screen' column\n",
    "most_frequent_screen = df['Screen'].mode()[0]\n",
    "\n",
    "# Fill missing values in the 'Screen' column with the most frequent value\n",
    "df['Screen'].fillna(most_frequent_screen, inplace=True)\n",
    "\n",
    "# Calculate the median value of the 'Screen' column again after filling missing values\n",
    "new_median_screen = df['Screen'].median()\n",
    "\n",
    "original_median_screen, most_frequent_screen, new_median_screen\n"
   ]
  },
  {
   "cell_type": "code",
   "execution_count": 10,
   "metadata": {},
   "outputs": [
    {
     "data": {
      "text/plain": [
       "91.2998806299555"
      ]
     },
     "execution_count": 10,
     "metadata": {},
     "output_type": "execute_result"
    }
   ],
   "source": [
    "#Q7. Sum of weights\n",
    "import numpy as np\n",
    "\n",
    "# Select all \"Innjoo\" laptops and the specified columns\n",
    "innjoo_laptops = df[df['Brand'].str.contains('Innjoo', case=False)]\n",
    "X = innjoo_laptops[['RAM', 'Storage', 'Screen']].to_numpy()\n",
    "\n",
    "# Perform matrix-matrix multiplication X.T @ X\n",
    "XTX = X.T @ X\n",
    "\n",
    "# Compute the inverse of XTX\n",
    "XTX_inv = np.linalg.inv(XTX)\n",
    "\n",
    "# Create array y\n",
    "y = np.array([1100, 1300, 800, 900, 1000, 1100])\n",
    "\n",
    "# Compute w: the result of XTX_inv @ X.T @ y\n",
    "w = XTX_inv @ X.T @ y\n",
    "\n",
    "# Calculate the sum of all elements in w\n",
    "result_sum = np.sum(w)\n",
    "\n",
    "result_sum\n"
   ]
  }
 ],
 "metadata": {
  "kernelspec": {
   "display_name": "ML",
   "language": "python",
   "name": "python3"
  },
  "language_info": {
   "codemirror_mode": {
    "name": "ipython",
    "version": 3
   },
   "file_extension": ".py",
   "mimetype": "text/x-python",
   "name": "python",
   "nbconvert_exporter": "python",
   "pygments_lexer": "ipython3",
   "version": "3.9.19"
  }
 },
 "nbformat": 4,
 "nbformat_minor": 2
}

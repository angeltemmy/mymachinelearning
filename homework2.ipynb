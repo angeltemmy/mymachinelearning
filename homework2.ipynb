{
 "cells": [
  {
   "cell_type": "code",
   "execution_count": 1,
   "metadata": {},
   "outputs": [],
   "source": [
    "import pandas as pd"
   ]
  },
  {
   "cell_type": "code",
   "execution_count": 5,
   "metadata": {},
   "outputs": [],
   "source": [
    "df= pd.read_csv('C:\\Git\\mymacinelearning\\mymachinelearning\\laptops.csv')"
   ]
  },
  {
   "cell_type": "code",
   "execution_count": null,
   "metadata": {},
   "outputs": [],
   "source": [
    "# Normalize the column names\n",
    "df.columns = df.columns.str.lower().str.replace(' ', '_')\n",
    "\n",
    "\n",
    "# Display the selected columns to verify\n",
    "df.columns"
   ]
  },
  {
   "cell_type": "code",
   "execution_count": 7,
   "metadata": {},
   "outputs": [],
   "source": [
    "# Selecting the required columns\n",
    "df= df[['ram', 'storage', 'screen', 'final_price']]"
   ]
  },
  {
   "cell_type": "code",
   "execution_count": null,
   "metadata": {},
   "outputs": [],
   "source": [
    "# Check for missing values in the selected columns\n",
    "df_missing_values = df.isnull().sum()\n",
    "df_missing_values\n"
   ]
  },
  {
   "cell_type": "code",
   "execution_count": 15,
   "metadata": {},
   "outputs": [
    {
     "data": {
      "text/plain": [
       "ram    16.0\n",
       "dtype: float64"
      ]
     },
     "execution_count": 15,
     "metadata": {},
     "output_type": "execute_result"
    }
   ],
   "source": [
    "# Calculate the median for the 'ram' column\n",
    "ram_median=df[['ram']].median()\n",
    "ram_median\n",
    "\n",
    "\n"
   ]
  },
  {
   "cell_type": "code",
   "execution_count": 18,
   "metadata": {},
   "outputs": [
    {
     "data": {
      "text/plain": [
       "(675.08, 675.16)"
      ]
     },
     "execution_count": 18,
     "metadata": {},
     "output_type": "execute_result"
    }
   ],
   "source": [
    "#Question 3\n",
    "\n",
    "from sklearn.model_selection import train_test_split\n",
    "from sklearn.linear_model import LinearRegression\n",
    "from sklearn.metrics import mean_squared_error\n",
    "import numpy as np\n",
    "\n",
    "# Step 1: Shuffle the data\n",
    "df_shuffled = df.sample(frac=1, random_state=42)\n",
    "\n",
    "# Step 2: Split the data into train/validation/test sets (60%/20%/20%)\n",
    "train_df, temp_df = train_test_split(df_shuffled, test_size=0.4, random_state=42)\n",
    "val_df, test_df = train_test_split(temp_df, test_size=0.5, random_state=42)\n",
    "\n",
    "# Step 3: Calculate the mean of the 'screen' column using training data\n",
    "screen_mean = train_df['screen'].mean()\n",
    "\n",
    "# Option 1: Fill missing values with 0\n",
    "train_df_0 = train_df.fillna({'screen': 0})\n",
    "val_df_0 = val_df.fillna({'screen': 0})\n",
    "\n",
    "# Option 2: Fill missing values with the mean of the training set\n",
    "train_df_mean = train_df.fillna({'screen': screen_mean})\n",
    "val_df_mean = val_df.fillna({'screen': screen_mean})\n",
    "\n",
    "# Prepare the data for training\n",
    "X_train_0, y_train_0 = train_df_0[['ram', 'storage', 'screen']], train_df_0['final_price']\n",
    "X_val_0, y_val_0 = val_df_0[['ram', 'storage', 'screen']], val_df_0['final_price']\n",
    "\n",
    "X_train_mean, y_train_mean = train_df_mean[['ram', 'storage', 'screen']], train_df_mean['final_price']\n",
    "X_val_mean, y_val_mean = val_df_mean[['ram', 'storage', 'screen']], val_df_mean['final_price']\n",
    "\n",
    "# Train linear regression models for each option\n",
    "model_0 = LinearRegression()\n",
    "model_0.fit(X_train_0, y_train_0)\n",
    "\n",
    "model_mean = LinearRegression()\n",
    "model_mean.fit(X_train_mean, y_train_mean)\n",
    "\n",
    "# Make predictions\n",
    "val_pred_0 = model_0.predict(X_val_0)\n",
    "val_pred_mean = model_mean.predict(X_val_mean)\n",
    "\n",
    "# Calculate RMSE for each model\n",
    "rmse_0 = round(np.sqrt(mean_squared_error(y_val_0, val_pred_0)), 2)\n",
    "rmse_mean = round(np.sqrt(mean_squared_error(y_val_mean, val_pred_mean)), 2)\n",
    "\n",
    "rmse_0, rmse_mean\n"
   ]
  },
  {
   "cell_type": "code",
   "execution_count": 19,
   "metadata": {},
   "outputs": [
    {
     "data": {
      "text/plain": [
       "({0: 675.08,\n",
       "  0.01: 675.08,\n",
       "  0.1: 675.08,\n",
       "  1: 675.08,\n",
       "  5: 675.08,\n",
       "  10: 675.08,\n",
       "  100: 675.01},\n",
       " 100)"
      ]
     },
     "execution_count": 19,
     "metadata": {},
     "output_type": "execute_result"
    }
   ],
   "source": [
    "#Question 4\n",
    "#Now let's train a regularized linear regression.\n",
    "#For this question, fill the NAs with 0.\n",
    "#Try different values of r from this list: [0, 0.01, 0.1, 1, 5, 10, 100].\n",
    "#Use RMSE to evaluate the model on the validation dataset.\n",
    "#Round the RMSE scores to 2 decimal digits.\n",
    "#Which r gives the best RMSE?\n",
    "\n",
    "from sklearn.linear_model import Ridge\n",
    "\n",
    "# List of regularization strengths\n",
    "r_values = [0, 0.01, 0.1, 1, 5, 10, 100]\n",
    "\n",
    "# Prepare the train and validation sets (using NAs filled with 0)\n",
    "X_train, y_train = train_df_0[['ram', 'storage', 'screen']], train_df_0['final_price']\n",
    "X_val, y_val = val_df_0[['ram', 'storage', 'screen']], val_df_0['final_price']\n",
    "\n",
    "# Store results for each value of r\n",
    "rmse_results = {}\n",
    "\n",
    "# Train Ridge regression models for each regularization strength\n",
    "for r in r_values:\n",
    "    model_ridge = Ridge(alpha=r)\n",
    "    model_ridge.fit(X_train, y_train)\n",
    "    val_pred = model_ridge.predict(X_val)\n",
    "    rmse = round(np.sqrt(mean_squared_error(y_val, val_pred)), 2)\n",
    "    rmse_results[r] = rmse\n",
    "\n",
    "# Finding the best r value\n",
    "best_r = min(rmse_results, key=rmse_results.get)\n",
    "\n",
    "rmse_results, best_r\n"
   ]
  },
  {
   "cell_type": "code",
   "execution_count": 20,
   "metadata": {},
   "outputs": [
    {
     "data": {
      "text/plain": [
       "23.888"
      ]
     },
     "execution_count": 20,
     "metadata": {},
     "output_type": "execute_result"
    }
   ],
   "source": [
    "#Question 5\n",
    "# List of seed values to test\n",
    "seed_values = [0, 1, 2, 3, 4, 5, 6, 7, 8, 9]\n",
    "\n",
    "# Store RMSE results for each seed\n",
    "rmse_seed_results = []\n",
    "\n",
    "# Loop through each seed and calculate RMSE\n",
    "for seed in seed_values:\n",
    "    # Shuffle and split the data using the current seed\n",
    "    df_shuffled_seed = df.sample(frac=1, random_state=seed)\n",
    "    train_df_seed, temp_df_seed = train_test_split(df_shuffled_seed, test_size=0.4, random_state=seed)\n",
    "    val_df_seed, _ = train_test_split(temp_df_seed, test_size=0.5, random_state=seed)\n",
    "    \n",
    "    # Fill missing values with 0\n",
    "    train_df_seed = train_df_seed.fillna({'screen': 0})\n",
    "    val_df_seed = val_df_seed.fillna({'screen': 0})\n",
    "    \n",
    "    # Prepare the train and validation sets\n",
    "    X_train_seed, y_train_seed = train_df_seed[['ram', 'storage', 'screen']], train_df_seed['final_price']\n",
    "    X_val_seed, y_val_seed = val_df_seed[['ram', 'storage', 'screen']], val_df_seed['final_price']\n",
    "    \n",
    "    # Train the linear regression model\n",
    "    model_seed = LinearRegression()\n",
    "    model_seed.fit(X_train_seed, y_train_seed)\n",
    "    \n",
    "    # Make predictions and calculate RMSE\n",
    "    val_pred_seed = model_seed.predict(X_val_seed)\n",
    "    rmse_seed = np.sqrt(mean_squared_error(y_val_seed, val_pred_seed))\n",
    "    rmse_seed_results.append(rmse_seed)\n",
    "\n",
    "# Calculate the standard deviation of RMSE scores\n",
    "rmse_std = round(np.std(rmse_seed_results), 3)\n",
    "rmse_std\n"
   ]
  },
  {
   "cell_type": "code",
   "execution_count": 21,
   "metadata": {},
   "outputs": [
    {
     "data": {
      "text/plain": [
       "552.86"
      ]
     },
     "execution_count": 21,
     "metadata": {},
     "output_type": "execute_result"
    }
   ],
   "source": [
    "# Split the data using seed 9\n",
    "df_shuffled_seed9 = df.sample(frac=1, random_state=9)\n",
    "train_df_seed9, temp_df_seed9 = train_test_split(df_shuffled_seed9, test_size=0.4, random_state=9)\n",
    "val_df_seed9, test_df_seed9 = train_test_split(temp_df_seed9, test_size=0.5, random_state=9)\n",
    "\n",
    "# Combine train and validation datasets\n",
    "combined_train_val_df = pd.concat([train_df_seed9, val_df_seed9])\n",
    "\n",
    "# Fill missing values with 0\n",
    "combined_train_val_df = combined_train_val_df.fillna({'screen': 0})\n",
    "test_df_seed9 = test_df_seed9.fillna({'screen': 0})\n",
    "\n",
    "# Prepare train/validation and test sets\n",
    "X_train_val = combined_train_val_df[['ram', 'storage', 'screen']]\n",
    "y_train_val = combined_train_val_df['final_price']\n",
    "X_test = test_df_seed9[['ram', 'storage', 'screen']]\n",
    "y_test = test_df_seed9['final_price']\n",
    "\n",
    "# Train the Ridge regression model with r=0.001\n",
    "model_ridge_001 = Ridge(alpha=0.001)\n",
    "model_ridge_001.fit(X_train_val, y_train_val)\n",
    "\n",
    "# Make predictions on the test set and calculate RMSE\n",
    "test_pred = model_ridge_001.predict(X_test)\n",
    "rmse_test = round(np.sqrt(mean_squared_error(y_test, test_pred)), 2)\n",
    "\n",
    "rmse_test\n"
   ]
  }
 ],
 "metadata": {
  "kernelspec": {
   "display_name": "pythonetl",
   "language": "python",
   "name": "python3"
  },
  "language_info": {
   "codemirror_mode": {
    "name": "ipython",
    "version": 3
   },
   "file_extension": ".py",
   "mimetype": "text/x-python",
   "name": "python",
   "nbconvert_exporter": "python",
   "pygments_lexer": "ipython3",
   "version": "3.9.19"
  }
 },
 "nbformat": 4,
 "nbformat_minor": 2
}
